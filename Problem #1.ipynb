{
 "cells": [
  {
   "cell_type": "markdown",
   "metadata": {},
   "source": [
    "# Problem #1"
   ]
  },
  {
   "cell_type": "code",
   "execution_count": 1,
   "metadata": {},
   "outputs": [
    {
     "name": "stderr",
     "output_type": "stream",
     "text": [
      "C:\\Users\\user\\Anaconda2\\lib\\site-packages\\sklearn\\cross_validation.py:41: DeprecationWarning: This module was deprecated in version 0.18 in favor of the model_selection module into which all the refactored classes and functions are moved. Also note that the interface of the new CV iterators are different from that of this module. This module will be removed in 0.20.\n",
      "  \"This module will be removed in 0.20.\", DeprecationWarning)\n"
     ]
    }
   ],
   "source": [
    "import pandas as pd\n",
    "import os\n",
    "import numpy as np\n",
    "from sklearn.feature_extraction.text import CountVectorizer\n",
    "#import sys                                                    #Causes problems with regression in skikitlearn \n",
    "#reload(sys)                                                   #later on. Find different way to make Count Vectorizer\n",
    "#sys.setdefaultencoding('utf8')                                #work. In future be carefull making global changes\n",
    "from sklearn.feature_extraction.text import TfidfVectorizer\n",
    "from sklearn.cross_validation import train_test_split\n",
    "from sklearn.linear_model import LinearRegression\n",
    "from sklearn.linear_model import Ridge\n",
    "from sklearn.neighbors import KNeighborsRegressor\n",
    "from sklearn.linear_model import Lasso\n",
    "from sklearn.tree import DecisionTreeRegressor\n",
    "from sklearn.ensemble import GradientBoostingRegressor\n",
    "from sklearn.ensemble import AdaBoostRegressor\n",
    "from sklearn.ensemble import ExtraTreesRegressor\n",
    "from sklearn.ensemble import RandomForestRegressor\n",
    "from sklearn.gaussian_process import GaussianProcessRegressor\n",
    "from sklearn.linear_model import ARDRegression\n",
    "from sklearn.ensemble import BaggingRegressor"
   ]
  },
  {
   "cell_type": "code",
   "execution_count": 2,
   "metadata": {},
   "outputs": [],
   "source": [
    "os.chdir('C:\\Users\\user\\downloads')\n",
    "salaryfn = 'salary_uk.csv'\n",
    "salary_uk = pd.read_csv(salaryfn)"
   ]
  },
  {
   "cell_type": "markdown",
   "metadata": {},
   "source": [
    "# Preprocessing"
   ]
  },
  {
   "cell_type": "code",
   "execution_count": 3,
   "metadata": {},
   "outputs": [],
   "source": [
    "#drop redundant raw location and raw salary features\n",
    "salary_uk = salary_uk.drop([u'LocationRaw', u'SalaryRaw', u'SourceName'],axis =1)"
   ]
  },
  {
   "cell_type": "code",
   "execution_count": 4,
   "metadata": {},
   "outputs": [
    {
     "data": {
      "text/html": [
       "<div>\n",
       "<style scoped>\n",
       "    .dataframe tbody tr th:only-of-type {\n",
       "        vertical-align: middle;\n",
       "    }\n",
       "\n",
       "    .dataframe tbody tr th {\n",
       "        vertical-align: top;\n",
       "    }\n",
       "\n",
       "    .dataframe thead th {\n",
       "        text-align: right;\n",
       "    }\n",
       "</style>\n",
       "<table border=\"1\" class=\"dataframe\">\n",
       "  <thead>\n",
       "    <tr style=\"text-align: right;\">\n",
       "      <th></th>\n",
       "      <th>Id</th>\n",
       "      <th>Title</th>\n",
       "      <th>FullDescription</th>\n",
       "      <th>LocationNormalized</th>\n",
       "      <th>ContractType</th>\n",
       "      <th>ContractTime</th>\n",
       "      <th>Company</th>\n",
       "      <th>Category</th>\n",
       "      <th>SalaryNormalized</th>\n",
       "    </tr>\n",
       "  </thead>\n",
       "  <tbody>\n",
       "    <tr>\n",
       "      <th>0</th>\n",
       "      <td>12612628</td>\n",
       "      <td>Engineering Systems Analyst</td>\n",
       "      <td>Engineering Systems Analyst Dorking Surrey Sal...</td>\n",
       "      <td>Dorking</td>\n",
       "      <td>NaN</td>\n",
       "      <td>permanent</td>\n",
       "      <td>Gregory Martin International</td>\n",
       "      <td>Engineering Jobs</td>\n",
       "      <td>25000</td>\n",
       "    </tr>\n",
       "    <tr>\n",
       "      <th>1</th>\n",
       "      <td>12612830</td>\n",
       "      <td>Stress Engineer Glasgow</td>\n",
       "      <td>Stress Engineer Glasgow Salary **** to **** We...</td>\n",
       "      <td>Glasgow</td>\n",
       "      <td>NaN</td>\n",
       "      <td>permanent</td>\n",
       "      <td>Gregory Martin International</td>\n",
       "      <td>Engineering Jobs</td>\n",
       "      <td>30000</td>\n",
       "    </tr>\n",
       "    <tr>\n",
       "      <th>2</th>\n",
       "      <td>12612844</td>\n",
       "      <td>Modelling and simulation analyst</td>\n",
       "      <td>Mathematical Modeller / Simulation Analyst / O...</td>\n",
       "      <td>Hampshire</td>\n",
       "      <td>NaN</td>\n",
       "      <td>permanent</td>\n",
       "      <td>Gregory Martin International</td>\n",
       "      <td>Engineering Jobs</td>\n",
       "      <td>30000</td>\n",
       "    </tr>\n",
       "    <tr>\n",
       "      <th>3</th>\n",
       "      <td>12613049</td>\n",
       "      <td>Engineering Systems Analyst / Mathematical Mod...</td>\n",
       "      <td>Engineering Systems Analyst / Mathematical Mod...</td>\n",
       "      <td>Surrey</td>\n",
       "      <td>NaN</td>\n",
       "      <td>permanent</td>\n",
       "      <td>Gregory Martin International</td>\n",
       "      <td>Engineering Jobs</td>\n",
       "      <td>27500</td>\n",
       "    </tr>\n",
       "    <tr>\n",
       "      <th>4</th>\n",
       "      <td>12613647</td>\n",
       "      <td>Pioneer, Miser Engineering Systems Analyst</td>\n",
       "      <td>Pioneer, Miser  Engineering Systems Analyst Do...</td>\n",
       "      <td>Surrey</td>\n",
       "      <td>NaN</td>\n",
       "      <td>permanent</td>\n",
       "      <td>Gregory Martin International</td>\n",
       "      <td>Engineering Jobs</td>\n",
       "      <td>25000</td>\n",
       "    </tr>\n",
       "  </tbody>\n",
       "</table>\n",
       "</div>"
      ],
      "text/plain": [
       "         Id                                              Title  \\\n",
       "0  12612628                        Engineering Systems Analyst   \n",
       "1  12612830                            Stress Engineer Glasgow   \n",
       "2  12612844                   Modelling and simulation analyst   \n",
       "3  12613049  Engineering Systems Analyst / Mathematical Mod...   \n",
       "4  12613647         Pioneer, Miser Engineering Systems Analyst   \n",
       "\n",
       "                                     FullDescription LocationNormalized  \\\n",
       "0  Engineering Systems Analyst Dorking Surrey Sal...            Dorking   \n",
       "1  Stress Engineer Glasgow Salary **** to **** We...            Glasgow   \n",
       "2  Mathematical Modeller / Simulation Analyst / O...          Hampshire   \n",
       "3  Engineering Systems Analyst / Mathematical Mod...             Surrey   \n",
       "4  Pioneer, Miser  Engineering Systems Analyst Do...             Surrey   \n",
       "\n",
       "  ContractType ContractTime                       Company          Category  \\\n",
       "0          NaN    permanent  Gregory Martin International  Engineering Jobs   \n",
       "1          NaN    permanent  Gregory Martin International  Engineering Jobs   \n",
       "2          NaN    permanent  Gregory Martin International  Engineering Jobs   \n",
       "3          NaN    permanent  Gregory Martin International  Engineering Jobs   \n",
       "4          NaN    permanent  Gregory Martin International  Engineering Jobs   \n",
       "\n",
       "   SalaryNormalized  \n",
       "0             25000  \n",
       "1             30000  \n",
       "2             30000  \n",
       "3             27500  \n",
       "4             25000  "
      ]
     },
     "execution_count": 4,
     "metadata": {},
     "output_type": "execute_result"
    }
   ],
   "source": [
    "salary_uk.head()"
   ]
  },
  {
   "cell_type": "code",
   "execution_count": 5,
   "metadata": {},
   "outputs": [
    {
     "data": {
      "text/plain": [
       "Index([u'Id', u'Title', u'FullDescription', u'LocationNormalized',\n",
       "       u'ContractType', u'ContractTime', u'Company', u'Category',\n",
       "       u'SalaryNormalized'],\n",
       "      dtype='object')"
      ]
     },
     "execution_count": 5,
     "metadata": {},
     "output_type": "execute_result"
    }
   ],
   "source": [
    "salary_uk.columns"
   ]
  },
  {
   "cell_type": "code",
   "execution_count": 6,
   "metadata": {},
   "outputs": [],
   "source": [
    "#Uses CountVectorizer, I use TfidVectorizer which is superior to CountVectorizer because it \n",
    "#uses term frequency-inverse document frequency (TF–IDF) which weights the word counts by a measure \n",
    "#of how often they appear in the documents\n",
    "\n",
    "#vec = CountVectorizer()\n",
    "#X = vec.fit_transform(salary_uk['Title'].values.astype('string'))\n",
    "#Title = pd.DataFrame(X.toarray(), columns=vec.get_feature_names())"
   ]
  },
  {
   "cell_type": "code",
   "execution_count": 7,
   "metadata": {},
   "outputs": [],
   "source": [
    "#Vectorizes Title feature using term frequency-inverse document frequency \n",
    "vec = TfidfVectorizer()\n",
    "X = vec.fit_transform(salary_uk['Title'].values.astype('string'))\n",
    "Title = pd.DataFrame(X.toarray(), columns=vec.get_feature_names())"
   ]
  },
  {
   "cell_type": "code",
   "execution_count": null,
   "metadata": {},
   "outputs": [],
   "source": [
    "#Vectorizes FullDescription feature using term frequency-inverse document frequency \n",
    "vec = TfidfVectorizer()\n",
    "X = vec.fit_transform(salary_uk['FullDescription'].values.astype('string'))\n",
    "FullDescription = pd.DataFrame(X.toarray(), columns=vec.get_feature_names())"
   ]
  },
  {
   "cell_type": "code",
   "execution_count": null,
   "metadata": {},
   "outputs": [],
   "source": [
    "salary_uk = pd.merge(salary_uk, Title, left_index=True, right_index=True)"
   ]
  },
  {
   "cell_type": "code",
   "execution_count": null,
   "metadata": {},
   "outputs": [],
   "source": [
    "#This adds the FullDescription vector. It also makes the dataframe a little bit too big to run on my laptop so for now its\n",
    "#commented out. Without this the datframe will have 3902 columns instead of 31087. The dataframe with 31087 columns causes\n",
    "#memory error.\n",
    "\n",
    "#salary_uk =pd.merge(salary_uk, FullDescription, left_index=True, right_index=True)"
   ]
  },
  {
   "cell_type": "code",
   "execution_count": null,
   "metadata": {},
   "outputs": [],
   "source": [
    "salary_uk = salary_uk.drop(['Title','FullDescription'], axis = 1) #drops the now redundant columns"
   ]
  },
  {
   "cell_type": "code",
   "execution_count": null,
   "metadata": {},
   "outputs": [],
   "source": [
    "salary_uk = pd.get_dummies(salary_uk, columns =[u'LocationNormalized',\n",
    "       u'ContractType', u'ContractTime', u'Company', u'Category'])"
   ]
  },
  {
   "cell_type": "code",
   "execution_count": null,
   "metadata": {},
   "outputs": [],
   "source": [
    "salary_uk.head()"
   ]
  },
  {
   "cell_type": "markdown",
   "metadata": {},
   "source": [
    "Now we have our dataset ready for analysis."
   ]
  },
  {
   "cell_type": "markdown",
   "metadata": {},
   "source": [
    "# Exploratory Data Analysis "
   ]
  },
  {
   "cell_type": "code",
   "execution_count": null,
   "metadata": {},
   "outputs": [],
   "source": []
  },
  {
   "cell_type": "markdown",
   "metadata": {},
   "source": [
    "# Partitioning the Data Set"
   ]
  },
  {
   "cell_type": "code",
   "execution_count": null,
   "metadata": {},
   "outputs": [],
   "source": [
    "Y_salary_uk =salary_uk['SalaryNormalized']\n",
    "X_salary_uk = salary_uk.drop('SalaryNormalized', axis=1)\n",
    "Xtrain, Xtest, ytrain, ytest = train_test_split(X_salary_uk, Y_salary_uk,\n",
    "                                                random_state=9)\n",
    "Xcolnames = list(X_salary_uk)"
   ]
  },
  {
   "cell_type": "code",
   "execution_count": null,
   "metadata": {},
   "outputs": [],
   "source": [
    "Y_salary_uk.shape"
   ]
  },
  {
   "cell_type": "code",
   "execution_count": null,
   "metadata": {},
   "outputs": [],
   "source": [
    "X_salary_uk.shape"
   ]
  },
  {
   "cell_type": "code",
   "execution_count": null,
   "metadata": {},
   "outputs": [],
   "source": []
  },
  {
   "cell_type": "markdown",
   "metadata": {},
   "source": [
    "# Analysis"
   ]
  },
  {
   "cell_type": "markdown",
   "metadata": {},
   "source": [
    "# Linear Regression"
   ]
  },
  {
   "cell_type": "code",
   "execution_count": 17,
   "metadata": {},
   "outputs": [
    {
     "name": "stdout",
     "output_type": "stream",
     "text": [
      "Training set score: 0.88\n",
      "Test set score: -11510814.38\n"
     ]
    }
   ],
   "source": [
    "lr = LinearRegression().fit(Xtrain, ytrain)\n",
    "print(\"Training set score: {:.2f}\".format(lr.score(Xtrain, ytrain)))\n",
    "print(\"Test set score: {:.2f}\".format(lr.score(Xtest, ytest)))"
   ]
  },
  {
   "cell_type": "markdown",
   "metadata": {},
   "source": [
    "# Ridge Regression"
   ]
  },
  {
   "cell_type": "code",
   "execution_count": 18,
   "metadata": {},
   "outputs": [
    {
     "name": "stderr",
     "output_type": "stream",
     "text": [
      "C:\\Users\\user\\Anaconda2\\lib\\site-packages\\sklearn\\linear_model\\ridge.py:112: LinAlgWarning: scipy.linalg.solve\n",
      "Ill-conditioned matrix detected. Result is not guaranteed to be accurate.\n",
      "Reciprocal condition number5.576186e-19\n",
      "  overwrite_a=True).T\n"
     ]
    },
    {
     "name": "stdout",
     "output_type": "stream",
     "text": [
      "Training set score: 0.79\n",
      "Test set score: 0.57\n"
     ]
    }
   ],
   "source": [
    "ridge = Ridge().fit(Xtrain, ytrain)\n",
    "print(\"Training set score: {:.2f}\".format(ridge.score(Xtrain, ytrain)))\n",
    "print(\"Test set score: {:.2f}\".format(ridge.score(Xtest, ytest)))"
   ]
  },
  {
   "cell_type": "code",
   "execution_count": 19,
   "metadata": {},
   "outputs": [
    {
     "name": "stderr",
     "output_type": "stream",
     "text": [
      "C:\\Users\\user\\Anaconda2\\lib\\site-packages\\sklearn\\linear_model\\ridge.py:112: LinAlgWarning: scipy.linalg.solve\n",
      "Ill-conditioned matrix detected. Result is not guaranteed to be accurate.\n",
      "Reciprocal condition number3.912640e-18\n",
      "  overwrite_a=True).T\n"
     ]
    },
    {
     "name": "stdout",
     "output_type": "stream",
     "text": [
      "Training set score: 0.60\n",
      "Test set score: 0.52\n"
     ]
    }
   ],
   "source": [
    "ridge10 = Ridge(alpha=10).fit(Xtrain, ytrain)\n",
    "print(\"Training set score: {:.2f}\".format(ridge10.score(Xtrain, ytrain)))\n",
    "print(\"Test set score: {:.2f}\".format(ridge10.score(Xtest, ytest)))"
   ]
  },
  {
   "cell_type": "markdown",
   "metadata": {},
   "source": [
    "# K Nearest Neighbors Regressor"
   ]
  },
  {
   "cell_type": "code",
   "execution_count": 20,
   "metadata": {},
   "outputs": [
    {
     "name": "stdout",
     "output_type": "stream",
     "text": [
      "Test set R^2: 0.09\n"
     ]
    }
   ],
   "source": [
    "# instantiate the model and set the number of neighbors to consider to 3:\n",
    "reg = KNeighborsRegressor(n_neighbors=3)\n",
    "# fit the model using the training data and training targets:\n",
    "reg.fit(Xtrain, ytrain)\n",
    "print(\"Test set R^2: {:.2f}\".format(reg.score(Xtest, ytest)))"
   ]
  },
  {
   "cell_type": "code",
   "execution_count": 21,
   "metadata": {},
   "outputs": [
    {
     "name": "stdout",
     "output_type": "stream",
     "text": [
      "Test set R^2: 0.13\n"
     ]
    }
   ],
   "source": [
    "# instantiate the model and set the number of neighbors to consider to 50:\n",
    "reg = KNeighborsRegressor(n_neighbors=50)\n",
    "# fit the model using the training data and training targets:\n",
    "reg.fit(Xtrain, ytrain)\n",
    "print(\"Test set R^2: {:.2f}\".format(reg.score(Xtest, ytest)))"
   ]
  },
  {
   "cell_type": "code",
   "execution_count": 22,
   "metadata": {},
   "outputs": [
    {
     "name": "stdout",
     "output_type": "stream",
     "text": [
      "Test set R^2: 0.08\n"
     ]
    }
   ],
   "source": [
    "# instantiate the model and set the number of neighbors to consider to 150:\n",
    "reg = KNeighborsRegressor(n_neighbors=150)\n",
    "# fit the model using the training data and training targets:\n",
    "reg.fit(Xtrain, ytrain)\n",
    "print(\"Test set R^2: {:.2f}\".format(reg.score(Xtest, ytest)))"
   ]
  },
  {
   "cell_type": "markdown",
   "metadata": {},
   "source": [
    "# Lasso"
   ]
  },
  {
   "cell_type": "code",
   "execution_count": null,
   "metadata": {},
   "outputs": [],
   "source": []
  },
  {
   "cell_type": "code",
   "execution_count": 23,
   "metadata": {},
   "outputs": [
    {
     "name": "stdout",
     "output_type": "stream",
     "text": [
      "Training set score: 0.80\n",
      "Test set score: 0.55\n",
      "Number of features used: 1893\n"
     ]
    }
   ],
   "source": [
    "lasso = Lasso().fit(Xtrain, ytrain)\n",
    "print(\"Training set score: {:.2f}\".format(lasso.score(Xtrain, ytrain)))\n",
    "print(\"Test set score: {:.2f}\".format(lasso.score(Xtest, ytest)))\n",
    "print(\"Number of features used: {}\".format(np.sum(lasso.coef_ != 0)))"
   ]
  },
  {
   "cell_type": "code",
   "execution_count": 29,
   "metadata": {},
   "outputs": [
    {
     "name": "stdout",
     "output_type": "stream",
     "text": [
      "Training set score: 0.88\n",
      "Test set score: 0.29\n",
      "Number of features used: 4640\n"
     ]
    }
   ],
   "source": [
    "lasso01 = Lasso(alpha=0.9, max_iter=1000).fit(Xtrain, ytrain)\n",
    "print(\"Training set score: {:.2f}\".format(lasso001.score(Xtrain, ytrain)))\n",
    "print(\"Test set score: {:.2f}\".format(lasso001.score(Xtest, ytest)))\n",
    "print(\"Number of features used: {}\".format(np.sum(lasso001.coef_ != 0)))"
   ]
  },
  {
   "cell_type": "code",
   "execution_count": 28,
   "metadata": {},
   "outputs": [
    {
     "name": "stdout",
     "output_type": "stream",
     "text": [
      "Training set score: 0.88\n",
      "Test set score: 0.29\n",
      "Number of features used: 4640\n"
     ]
    }
   ],
   "source": [
    "lasso01 = Lasso(alpha=0.1, max_iter=1000).fit(Xtrain, ytrain)\n",
    "print(\"Training set score: {:.2f}\".format(lasso001.score(Xtrain, ytrain)))\n",
    "print(\"Test set score: {:.2f}\".format(lasso001.score(Xtest, ytest)))\n",
    "print(\"Number of features used: {}\".format(np.sum(lasso001.coef_ != 0)))"
   ]
  },
  {
   "cell_type": "code",
   "execution_count": 27,
   "metadata": {},
   "outputs": [
    {
     "name": "stdout",
     "output_type": "stream",
     "text": [
      "Training set score: 0.88\n",
      "Test set score: 0.29\n",
      "Number of features used: 4640\n"
     ]
    }
   ],
   "source": [
    "# we increase the default setting of \"max_iter\",\n",
    "# otherwise the model would warn us that we should increase max_iter.\n",
    "lasso001 = Lasso(alpha=0.01, max_iter=1000).fit(Xtrain, ytrain)\n",
    "print(\"Training set score: {:.2f}\".format(lasso001.score(Xtrain, ytrain)))\n",
    "print(\"Test set score: {:.2f}\".format(lasso001.score(Xtest, ytest)))\n",
    "print(\"Number of features used: {}\".format(np.sum(lasso001.coef_ != 0)))"
   ]
  },
  {
   "cell_type": "code",
   "execution_count": 26,
   "metadata": {},
   "outputs": [
    {
     "name": "stdout",
     "output_type": "stream",
     "text": [
      "Training set score: 0.88\n",
      "Test set score: 0.16\n",
      "Number of features used: 5207\n"
     ]
    }
   ],
   "source": [
    "lasso00001 = Lasso(alpha=0.0001, max_iter=1000).fit(Xtrain, ytrain)\n",
    "print(\"Training set score: {:.2f}\".format(lasso00001.score(Xtrain, ytrain)))\n",
    "print(\"Test set score: {:.2f}\".format(lasso00001.score(Xtest, ytest)))\n",
    "print(\"Number of features used: {}\".format(np.sum(lasso00001.coef_ != 0)))"
   ]
  },
  {
   "cell_type": "markdown",
   "metadata": {},
   "source": [
    "# Decision Tree Regressor"
   ]
  },
  {
   "cell_type": "code",
   "execution_count": 33,
   "metadata": {},
   "outputs": [
    {
     "name": "stdout",
     "output_type": "stream",
     "text": [
      "Training set score: 1.00\n",
      "Test set score: 0.32\n"
     ]
    }
   ],
   "source": [
    "tree = DecisionTreeRegressor().fit(Xtrain, ytrain)\n",
    "print(\"Training set score: {:.2f}\".format(tree.score(Xtrain, ytrain)))\n",
    "print(\"Test set score: {:.2f}\".format(tree.score(Xtest, ytest)))"
   ]
  },
  {
   "cell_type": "markdown",
   "metadata": {},
   "source": [
    "# Gradient Boosting Regressor"
   ]
  },
  {
   "cell_type": "code",
   "execution_count": 37,
   "metadata": {},
   "outputs": [
    {
     "name": "stdout",
     "output_type": "stream",
     "text": [
      "Training set score: 0.54\n",
      "Test set score: 0.45\n"
     ]
    }
   ],
   "source": [
    "gbtr = GradientBoostingRegressor().fit(Xtrain, ytrain)\n",
    "print(\"Training set score: {:.2f}\".format(gbtr.score(Xtrain, ytrain)))\n",
    "print(\"Test set score: {:.2f}\".format(gbtr.score(Xtest, ytest)))"
   ]
  },
  {
   "cell_type": "markdown",
   "metadata": {},
   "source": [
    "# Ada Boost Regressor"
   ]
  },
  {
   "cell_type": "code",
   "execution_count": 39,
   "metadata": {},
   "outputs": [
    {
     "name": "stdout",
     "output_type": "stream",
     "text": [
      "Training set score: -1.49\n",
      "Test set score: -1.40\n"
     ]
    }
   ],
   "source": [
    "abtr = AdaBoostRegressor().fit(Xtrain, ytrain)\n",
    "print(\"Training set score: {:.2f}\".format(abtr.score(Xtrain, ytrain)))\n",
    "print(\"Test set score: {:.2f}\".format(abtr.score(Xtest, ytest)))"
   ]
  },
  {
   "cell_type": "markdown",
   "metadata": {},
   "source": [
    "# Extra Trees Regressor"
   ]
  },
  {
   "cell_type": "code",
   "execution_count": 44,
   "metadata": {},
   "outputs": [
    {
     "name": "stdout",
     "output_type": "stream",
     "text": [
      "Training set score: 1.00\n",
      "Test set score: 0.50\n"
     ]
    }
   ],
   "source": [
    "etr = ExtraTreesRegressor().fit(Xtrain, ytrain)\n",
    "print(\"Training set score: {:.2f}\".format(etr.score(Xtrain, ytrain)))\n",
    "print(\"Test set score: {:.2f}\".format(etr.score(Xtest, ytest)))"
   ]
  },
  {
   "cell_type": "markdown",
   "metadata": {},
   "source": [
    "# Random Forest Regressor"
   ]
  },
  {
   "cell_type": "code",
   "execution_count": 45,
   "metadata": {},
   "outputs": [
    {
     "name": "stdout",
     "output_type": "stream",
     "text": [
      "Training set score: 0.92\n",
      "Test set score: 0.52\n"
     ]
    }
   ],
   "source": [
    "rfr = RandomForestRegressor().fit(Xtrain, ytrain)\n",
    "print(\"Training set score: {:.2f}\".format(rfr.score(Xtrain, ytrain)))\n",
    "print(\"Test set score: {:.2f}\".format(rfr.score(Xtest, ytest)))"
   ]
  },
  {
   "cell_type": "markdown",
   "metadata": {},
   "source": [
    "# Gaussian Process Regressor"
   ]
  },
  {
   "cell_type": "code",
   "execution_count": null,
   "metadata": {},
   "outputs": [],
   "source": [
    "#takes a lil bit\n",
    "\n",
    "#gpr = GaussianProcessRegressor().fit(Xtrain, ytrain)\n",
    "#print(\"Training set score: {:.2f}\".format(gpr.score(Xtrain, ytrain)))\n",
    "#print(\"Test set score: {:.2f}\".format(gpr.score(Xtest, ytest)))"
   ]
  },
  {
   "cell_type": "markdown",
   "metadata": {},
   "source": [
    "# ARD Regression"
   ]
  },
  {
   "cell_type": "code",
   "execution_count": null,
   "metadata": {},
   "outputs": [],
   "source": [
    "ardr = ARDRegression().fit(Xtrain, ytrain)\n",
    "print(\"Training set score: {:.2f}\".format(ardr.score(Xtrain, ytrain)))\n",
    "print(\"Test set score: {:.2f}\".format(ardr.score(Xtest, ytest)))"
   ]
  },
  {
   "cell_type": "code",
   "execution_count": null,
   "metadata": {},
   "outputs": [],
   "source": []
  }
 ],
 "metadata": {
  "kernelspec": {
   "display_name": "Python 2",
   "language": "python",
   "name": "python2"
  },
  "language_info": {
   "codemirror_mode": {
    "name": "ipython",
    "version": 2
   },
   "file_extension": ".py",
   "mimetype": "text/x-python",
   "name": "python",
   "nbconvert_exporter": "python",
   "pygments_lexer": "ipython2",
   "version": "2.7.15"
  }
 },
 "nbformat": 4,
 "nbformat_minor": 2
}
